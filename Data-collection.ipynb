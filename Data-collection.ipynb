{
 "cells": [
  {
   "cell_type": "markdown",
   "id": "8d47a312-9fd2-44a8-b43e-aaaddaf670c4",
   "metadata": {},
   "source": [
    "# EXPLORATORY DATA ANALYSIS OF BRITISH AIRWAYS CUSTOMER REVIEWS\n",
    "\n",
    "-> The following project was assigned in a forage internship program"
   ]
  },
  {
   "cell_type": "markdown",
   "id": "9a321c63",
   "metadata": {},
   "source": [
    "## Data Collection and webscrapping\n",
    "\n",
    "Britsih Airways airline data is present on  [Skytrax](https://www.airlinequality.com/airline-reviews/british-airways). We will collect data about airline ratings, seat ratings and lounge experience ratings from this website. \n"
   ]
  },
  {
   "cell_type": "code",
   "execution_count": 2,
   "id": "5f43dc5f-ffc2-4ba0-8a73-3b70e9ab0fcf",
   "metadata": {},
   "outputs": [],
   "source": [
    "#importing libraries\n",
    "\n",
    "import pandas as pd\n",
    "import numpy as np\n",
    "from bs4 import BeautifulSoup\n",
    "import requests "
   ]
  },
  {
   "cell_type": "code",
   "execution_count": 3,
   "id": "d5c2c023-7500-4e89-94f7-ddff4864d83c",
   "metadata": {},
   "outputs": [],
   "source": [
    "#create an empty list to collect all reviews\n",
    "reviews  = []\n",
    "\n",
    "#create an empty list to collect rating stars\n",
    "stars = []\n",
    "\n",
    "#create an empty list to collect date\n",
    "date = []\n",
    "\n",
    "#create an empty list to collect country the reviewer is from\n",
    "country = []"
   ]
  },
  {
   "cell_type": "code",
   "execution_count": 4,
   "id": "2894e93a-cbd4-45b5-b262-95f88994d83a",
   "metadata": {},
   "outputs": [
    {
     "name": "stdout",
     "output_type": "stream",
     "text": [
      "Error on page 33 for star index 50\n",
      "Error on page 34 for star index 79\n",
      "Error on page 35 for star index 1\n",
      "Reviews: 3535\n",
      "Stars: 3535\n",
      "Dates: 3535\n",
      "Countries: 3535\n"
     ]
    }
   ],
   "source": [
    "from bs4 import BeautifulSoup\n",
    "import requests\n",
    "\n",
    "reviews = []\n",
    "stars = []\n",
    "dates = []\n",
    "countries = []\n",
    "\n",
    "for i in range(1, 36):\n",
    "    page = requests.get(f\"https://www.airlinequality.com/airline-reviews/british-airways/page/{i}/?sortby=post_date%3ADesc&pagesize=100\")\n",
    "    \n",
    "    soup = BeautifulSoup(page.content, \"html.parser\")\n",
    "    \n",
    "    review_items = soup.find_all(\"div\", class_=\"text_content\")\n",
    "    star_items = soup.find_all(\"div\", class_=\"rating-10\")\n",
    "    date_items = soup.find_all(\"time\")\n",
    "    country_items = soup.find_all(\"h3\")\n",
    "    \n",
    "    # Ensure that the lengths of the items are consistent\n",
    "    num_reviews = len(review_items)\n",
    "    num_stars = len(star_items)\n",
    "    num_dates = len(date_items)\n",
    "    num_countries = len(country_items)\n",
    "    \n",
    "    max_length = max(num_reviews, num_stars, num_dates, num_countries)\n",
    "    \n",
    "    for index in range(max_length):\n",
    "        # Reviews\n",
    "        if index < num_reviews:\n",
    "            reviews.append(review_items[index].text.strip())\n",
    "        else:\n",
    "            reviews.append(\"None\")\n",
    "        \n",
    "        # Stars\n",
    "        if index < num_stars:\n",
    "            try:\n",
    "                stars.append(star_items[index].span.text.strip())\n",
    "            except:\n",
    "                print(f\"Error on page {i} for star index {index}\")\n",
    "                stars.append(\"None\")\n",
    "        else:\n",
    "            stars.append(\"None\")\n",
    "        \n",
    "        # Dates\n",
    "        if index < num_dates:\n",
    "            dates.append(date_items[index].text.strip())\n",
    "        else:\n",
    "            dates.append(\"None\")\n",
    "        \n",
    "        # Countries\n",
    "        if index < num_countries:\n",
    "            try:\n",
    "                countries.append(country_items[index].span.next_sibling.text.strip(\" ()\"))\n",
    "            except:\n",
    "                print(f\"Error on page {i} for country index {index}\")\n",
    "                countries.append(\"None\")\n",
    "        else:\n",
    "            countries.append(\"None\")\n",
    "\n",
    "# Output the lengths to ensure they are equal\n",
    "print(\"Reviews:\", len(reviews))\n",
    "print(\"Stars:\", len(stars))\n",
    "print(\"Dates:\", len(dates))\n",
    "print(\"Countries:\", len(countries))\n"
   ]
  },
  {
   "cell_type": "code",
   "execution_count": 5,
   "id": "79213047-71dd-4907-8caf-d9a9d157f37a",
   "metadata": {},
   "outputs": [],
   "source": [
    "#create  a dataframe from these collected lists of data\n",
    "\n",
    "df = pd.DataFrame({\"reviews\":reviews,\"stars\": stars, \"date\":dates, \"country\": countries})"
   ]
  },
  {
   "cell_type": "code",
   "execution_count": 6,
   "id": "c6532f95-e13b-4fb9-83f3-300c35c20cf6",
   "metadata": {},
   "outputs": [
    {
     "data": {
      "text/html": [
       "<div>\n",
       "<style scoped>\n",
       "    .dataframe tbody tr th:only-of-type {\n",
       "        vertical-align: middle;\n",
       "    }\n",
       "\n",
       "    .dataframe tbody tr th {\n",
       "        vertical-align: top;\n",
       "    }\n",
       "\n",
       "    .dataframe thead th {\n",
       "        text-align: right;\n",
       "    }\n",
       "</style>\n",
       "<table border=\"1\" class=\"dataframe\">\n",
       "  <thead>\n",
       "    <tr style=\"text-align: right;\">\n",
       "      <th></th>\n",
       "      <th>reviews</th>\n",
       "      <th>stars</th>\n",
       "      <th>date</th>\n",
       "      <th>country</th>\n",
       "    </tr>\n",
       "  </thead>\n",
       "  <tbody>\n",
       "    <tr>\n",
       "      <th>0</th>\n",
       "      <td>Not Verified |   Singapore to Heathrow. Busine...</td>\n",
       "      <td>5</td>\n",
       "      <td>16th July 2024</td>\n",
       "      <td>New Zealand</td>\n",
       "    </tr>\n",
       "    <tr>\n",
       "      <th>1</th>\n",
       "      <td>Not Verified |   I reported my damaged/ruined ...</td>\n",
       "      <td>1</td>\n",
       "      <td>15th July 2024</td>\n",
       "      <td>United Kingdom</td>\n",
       "    </tr>\n",
       "    <tr>\n",
       "      <th>2</th>\n",
       "      <td>Not Verified |   On March 1st, I flew from Ber...</td>\n",
       "      <td>1</td>\n",
       "      <td>9th July 2024</td>\n",
       "      <td>Germany</td>\n",
       "    </tr>\n",
       "    <tr>\n",
       "      <th>3</th>\n",
       "      <td>Not Verified | The WORST customer experience! ...</td>\n",
       "      <td>1</td>\n",
       "      <td>5th July 2024</td>\n",
       "      <td>United Kingdom</td>\n",
       "    </tr>\n",
       "    <tr>\n",
       "      <th>4</th>\n",
       "      <td>Not Verified |   Had to cancel my flight month...</td>\n",
       "      <td>1</td>\n",
       "      <td>1st July 2024</td>\n",
       "      <td>Canada</td>\n",
       "    </tr>\n",
       "  </tbody>\n",
       "</table>\n",
       "</div>"
      ],
      "text/plain": [
       "                                             reviews stars            date  \\\n",
       "0  Not Verified |   Singapore to Heathrow. Busine...     5  16th July 2024   \n",
       "1  Not Verified |   I reported my damaged/ruined ...     1  15th July 2024   \n",
       "2  Not Verified |   On March 1st, I flew from Ber...     1   9th July 2024   \n",
       "3  Not Verified | The WORST customer experience! ...     1   5th July 2024   \n",
       "4  Not Verified |   Had to cancel my flight month...     1   1st July 2024   \n",
       "\n",
       "          country  \n",
       "0     New Zealand  \n",
       "1  United Kingdom  \n",
       "2         Germany  \n",
       "3  United Kingdom  \n",
       "4          Canada  "
      ]
     },
     "execution_count": 6,
     "metadata": {},
     "output_type": "execute_result"
    }
   ],
   "source": [
    "df.head()"
   ]
  },
  {
   "cell_type": "code",
   "execution_count": 7,
   "id": "366096e8-d1f2-4033-a831-5447e52861c2",
   "metadata": {},
   "outputs": [
    {
     "data": {
      "text/plain": [
       "(3535, 4)"
      ]
     },
     "execution_count": 7,
     "metadata": {},
     "output_type": "execute_result"
    }
   ],
   "source": [
    "df.shape"
   ]
  },
  {
   "cell_type": "markdown",
   "id": "fc219e55-fdc8-4b10-a3e9-8dda764ee275",
   "metadata": {},
   "source": [
    "### Export the data into a csv format"
   ]
  },
  {
   "cell_type": "code",
   "execution_count": 8,
   "id": "b286e642-59a2-4da3-9120-e9db119ebea6",
   "metadata": {},
   "outputs": [],
   "source": [
    "import os\n",
    "cwd = os.getcwd()\n",
    "df.to_csv(cwd+ \"/BA_reviews.csv\")"
   ]
  },
  {
   "cell_type": "markdown",
   "id": "fc2c3257",
   "metadata": {},
   "source": [
    "## Data Cleaning and Preprocessing"
   ]
  },
  {
   "cell_type": "code",
   "execution_count": 9,
   "id": "eb1d69e4-3f4c-4b21-8b04-ebccfb7d6332",
   "metadata": {},
   "outputs": [],
   "source": [
    "# importing libraries\n",
    "import numpy as np \n",
    "import pandas as pd \n",
    "import matplotlib.pyplot as plt \n",
    "import seaborn as sns \n"
   ]
  },
  {
   "cell_type": "code",
   "execution_count": 10,
   "id": "591157d3-bd0c-4305-9975-c1b09cb680d3",
   "metadata": {},
   "outputs": [],
   "source": [
    "df=pd.read_csv(\"BA_reviews.csv\") # read the extracted data"
   ]
  },
  {
   "cell_type": "code",
   "execution_count": 11,
   "id": "360952f1-decb-4f41-abbf-54c5ac7b9e59",
   "metadata": {},
   "outputs": [
    {
     "data": {
      "text/html": [
       "<div>\n",
       "<style scoped>\n",
       "    .dataframe tbody tr th:only-of-type {\n",
       "        vertical-align: middle;\n",
       "    }\n",
       "\n",
       "    .dataframe tbody tr th {\n",
       "        vertical-align: top;\n",
       "    }\n",
       "\n",
       "    .dataframe thead th {\n",
       "        text-align: right;\n",
       "    }\n",
       "</style>\n",
       "<table border=\"1\" class=\"dataframe\">\n",
       "  <thead>\n",
       "    <tr style=\"text-align: right;\">\n",
       "      <th></th>\n",
       "      <th>Unnamed: 0</th>\n",
       "      <th>reviews</th>\n",
       "      <th>stars</th>\n",
       "      <th>date</th>\n",
       "      <th>country</th>\n",
       "    </tr>\n",
       "  </thead>\n",
       "  <tbody>\n",
       "    <tr>\n",
       "      <th>0</th>\n",
       "      <td>0</td>\n",
       "      <td>Not Verified |   Singapore to Heathrow. Busine...</td>\n",
       "      <td>5.0</td>\n",
       "      <td>16th July 2024</td>\n",
       "      <td>New Zealand</td>\n",
       "    </tr>\n",
       "    <tr>\n",
       "      <th>1</th>\n",
       "      <td>1</td>\n",
       "      <td>Not Verified |   I reported my damaged/ruined ...</td>\n",
       "      <td>1.0</td>\n",
       "      <td>15th July 2024</td>\n",
       "      <td>United Kingdom</td>\n",
       "    </tr>\n",
       "    <tr>\n",
       "      <th>2</th>\n",
       "      <td>2</td>\n",
       "      <td>Not Verified |   On March 1st, I flew from Ber...</td>\n",
       "      <td>1.0</td>\n",
       "      <td>9th July 2024</td>\n",
       "      <td>Germany</td>\n",
       "    </tr>\n",
       "    <tr>\n",
       "      <th>3</th>\n",
       "      <td>3</td>\n",
       "      <td>Not Verified | The WORST customer experience! ...</td>\n",
       "      <td>1.0</td>\n",
       "      <td>5th July 2024</td>\n",
       "      <td>United Kingdom</td>\n",
       "    </tr>\n",
       "    <tr>\n",
       "      <th>4</th>\n",
       "      <td>4</td>\n",
       "      <td>Not Verified |   Had to cancel my flight month...</td>\n",
       "      <td>1.0</td>\n",
       "      <td>1st July 2024</td>\n",
       "      <td>Canada</td>\n",
       "    </tr>\n",
       "  </tbody>\n",
       "</table>\n",
       "</div>"
      ],
      "text/plain": [
       "   Unnamed: 0                                            reviews  stars  \\\n",
       "0           0  Not Verified |   Singapore to Heathrow. Busine...    5.0   \n",
       "1           1  Not Verified |   I reported my damaged/ruined ...    1.0   \n",
       "2           2  Not Verified |   On March 1st, I flew from Ber...    1.0   \n",
       "3           3  Not Verified | The WORST customer experience! ...    1.0   \n",
       "4           4  Not Verified |   Had to cancel my flight month...    1.0   \n",
       "\n",
       "             date         country  \n",
       "0  16th July 2024     New Zealand  \n",
       "1  15th July 2024  United Kingdom  \n",
       "2   9th July 2024         Germany  \n",
       "3   5th July 2024  United Kingdom  \n",
       "4   1st July 2024          Canada  "
      ]
     },
     "execution_count": 11,
     "metadata": {},
     "output_type": "execute_result"
    }
   ],
   "source": [
    "df.head()"
   ]
  },
  {
   "cell_type": "code",
   "execution_count": 12,
   "id": "da72ddd7",
   "metadata": {},
   "outputs": [
    {
     "name": "stdout",
     "output_type": "stream",
     "text": [
      "<class 'pandas.core.frame.DataFrame'>\n",
      "RangeIndex: 3535 entries, 0 to 3534\n",
      "Data columns (total 5 columns):\n",
      " #   Column      Non-Null Count  Dtype  \n",
      "---  ------      --------------  -----  \n",
      " 0   Unnamed: 0  3535 non-null   int64  \n",
      " 1   reviews     3500 non-null   object \n",
      " 2   stars       3532 non-null   float64\n",
      " 3   date        3500 non-null   object \n",
      " 4   country     3498 non-null   object \n",
      "dtypes: float64(1), int64(1), object(3)\n",
      "memory usage: 138.2+ KB\n"
     ]
    }
   ],
   "source": [
    "df.info()"
   ]
  },
  {
   "cell_type": "code",
   "execution_count": 13,
   "id": "3107e4e1",
   "metadata": {},
   "outputs": [
    {
     "data": {
      "text/plain": [
       "Index(['Unnamed: 0', 'reviews', 'stars', 'date', 'country'], dtype='object')"
      ]
     },
     "execution_count": 13,
     "metadata": {},
     "output_type": "execute_result"
    }
   ],
   "source": [
    "df.columns"
   ]
  },
  {
   "cell_type": "code",
   "execution_count": 14,
   "id": "4e0267d9",
   "metadata": {},
   "outputs": [
    {
     "data": {
      "text/plain": [
       "0       False\n",
       "1       False\n",
       "2       False\n",
       "3       False\n",
       "4       False\n",
       "        ...  \n",
       "3530    False\n",
       "3531    False\n",
       "3532    False\n",
       "3533    False\n",
       "3534      NaN\n",
       "Name: verified, Length: 3535, dtype: object"
      ]
     },
     "execution_count": 14,
     "metadata": {},
     "output_type": "execute_result"
    }
   ],
   "source": [
    "# remove verified from the reviews\n",
    "df['verified'] = df.reviews.str.contains(\"Trip Verified\")\n",
    "df.verified"
   ]
  },
  {
   "cell_type": "code",
   "execution_count": 15,
   "id": "2ce76f04",
   "metadata": {},
   "outputs": [
    {
     "data": {
      "text/html": [
       "<div>\n",
       "<style scoped>\n",
       "    .dataframe tbody tr th:only-of-type {\n",
       "        vertical-align: middle;\n",
       "    }\n",
       "\n",
       "    .dataframe tbody tr th {\n",
       "        vertical-align: top;\n",
       "    }\n",
       "\n",
       "    .dataframe thead th {\n",
       "        text-align: right;\n",
       "    }\n",
       "</style>\n",
       "<table border=\"1\" class=\"dataframe\">\n",
       "  <thead>\n",
       "    <tr style=\"text-align: right;\">\n",
       "      <th></th>\n",
       "      <th>Unnamed: 0</th>\n",
       "      <th>reviews</th>\n",
       "      <th>stars</th>\n",
       "      <th>date</th>\n",
       "      <th>country</th>\n",
       "      <th>verified</th>\n",
       "    </tr>\n",
       "  </thead>\n",
       "  <tbody>\n",
       "    <tr>\n",
       "      <th>0</th>\n",
       "      <td>0</td>\n",
       "      <td>Not Verified |   Singapore to Heathrow. Busine...</td>\n",
       "      <td>5.0</td>\n",
       "      <td>16th July 2024</td>\n",
       "      <td>New Zealand</td>\n",
       "      <td>False</td>\n",
       "    </tr>\n",
       "    <tr>\n",
       "      <th>1</th>\n",
       "      <td>1</td>\n",
       "      <td>Not Verified |   I reported my damaged/ruined ...</td>\n",
       "      <td>1.0</td>\n",
       "      <td>15th July 2024</td>\n",
       "      <td>United Kingdom</td>\n",
       "      <td>False</td>\n",
       "    </tr>\n",
       "    <tr>\n",
       "      <th>2</th>\n",
       "      <td>2</td>\n",
       "      <td>Not Verified |   On March 1st, I flew from Ber...</td>\n",
       "      <td>1.0</td>\n",
       "      <td>9th July 2024</td>\n",
       "      <td>Germany</td>\n",
       "      <td>False</td>\n",
       "    </tr>\n",
       "    <tr>\n",
       "      <th>3</th>\n",
       "      <td>3</td>\n",
       "      <td>Not Verified | The WORST customer experience! ...</td>\n",
       "      <td>1.0</td>\n",
       "      <td>5th July 2024</td>\n",
       "      <td>United Kingdom</td>\n",
       "      <td>False</td>\n",
       "    </tr>\n",
       "    <tr>\n",
       "      <th>4</th>\n",
       "      <td>4</td>\n",
       "      <td>Not Verified |   Had to cancel my flight month...</td>\n",
       "      <td>1.0</td>\n",
       "      <td>1st July 2024</td>\n",
       "      <td>Canada</td>\n",
       "      <td>False</td>\n",
       "    </tr>\n",
       "    <tr>\n",
       "      <th>...</th>\n",
       "      <td>...</td>\n",
       "      <td>...</td>\n",
       "      <td>...</td>\n",
       "      <td>...</td>\n",
       "      <td>...</td>\n",
       "      <td>...</td>\n",
       "    </tr>\n",
       "    <tr>\n",
       "      <th>3530</th>\n",
       "      <td>3530</td>\n",
       "      <td>Took 6 BA flights as part of a OneWorld RTW tr...</td>\n",
       "      <td>1.0</td>\n",
       "      <td>12th October 2014</td>\n",
       "      <td>Australia</td>\n",
       "      <td>False</td>\n",
       "    </tr>\n",
       "    <tr>\n",
       "      <th>3531</th>\n",
       "      <td>3531</td>\n",
       "      <td>Flown 6 flights on BA recently generally satis...</td>\n",
       "      <td>9.0</td>\n",
       "      <td>12th October 2014</td>\n",
       "      <td>United Kingdom</td>\n",
       "      <td>False</td>\n",
       "    </tr>\n",
       "    <tr>\n",
       "      <th>3532</th>\n",
       "      <td>3532</td>\n",
       "      <td>Without being completely detrimental to BA I H...</td>\n",
       "      <td>7.0</td>\n",
       "      <td>12th October 2014</td>\n",
       "      <td>Mexico</td>\n",
       "      <td>False</td>\n",
       "    </tr>\n",
       "    <tr>\n",
       "      <th>3533</th>\n",
       "      <td>3533</td>\n",
       "      <td>Travelled to Cyprus from Gatwick in economy as...</td>\n",
       "      <td>1.0</td>\n",
       "      <td>12th October 2014</td>\n",
       "      <td>United Kingdom</td>\n",
       "      <td>False</td>\n",
       "    </tr>\n",
       "    <tr>\n",
       "      <th>3534</th>\n",
       "      <td>3534</td>\n",
       "      <td>NaN</td>\n",
       "      <td>2.0</td>\n",
       "      <td>NaN</td>\n",
       "      <td>NaN</td>\n",
       "      <td>NaN</td>\n",
       "    </tr>\n",
       "  </tbody>\n",
       "</table>\n",
       "<p>3535 rows × 6 columns</p>\n",
       "</div>"
      ],
      "text/plain": [
       "      Unnamed: 0                                            reviews  stars  \\\n",
       "0              0  Not Verified |   Singapore to Heathrow. Busine...    5.0   \n",
       "1              1  Not Verified |   I reported my damaged/ruined ...    1.0   \n",
       "2              2  Not Verified |   On March 1st, I flew from Ber...    1.0   \n",
       "3              3  Not Verified | The WORST customer experience! ...    1.0   \n",
       "4              4  Not Verified |   Had to cancel my flight month...    1.0   \n",
       "...          ...                                                ...    ...   \n",
       "3530        3530  Took 6 BA flights as part of a OneWorld RTW tr...    1.0   \n",
       "3531        3531  Flown 6 flights on BA recently generally satis...    9.0   \n",
       "3532        3532  Without being completely detrimental to BA I H...    7.0   \n",
       "3533        3533  Travelled to Cyprus from Gatwick in economy as...    1.0   \n",
       "3534        3534                                                NaN    2.0   \n",
       "\n",
       "                   date         country verified  \n",
       "0        16th July 2024     New Zealand    False  \n",
       "1        15th July 2024  United Kingdom    False  \n",
       "2         9th July 2024         Germany    False  \n",
       "3         5th July 2024  United Kingdom    False  \n",
       "4         1st July 2024          Canada    False  \n",
       "...                 ...             ...      ...  \n",
       "3530  12th October 2014       Australia    False  \n",
       "3531  12th October 2014  United Kingdom    False  \n",
       "3532  12th October 2014          Mexico    False  \n",
       "3533  12th October 2014  United Kingdom    False  \n",
       "3534                NaN             NaN      NaN  \n",
       "\n",
       "[3535 rows x 6 columns]"
      ]
     },
     "execution_count": 15,
     "metadata": {},
     "output_type": "execute_result"
    }
   ],
   "source": [
    "df"
   ]
  },
  {
   "cell_type": "code",
   "execution_count": 16,
   "id": "95b14ff3",
   "metadata": {},
   "outputs": [
    {
     "data": {
      "text/html": [
       "<div>\n",
       "<style scoped>\n",
       "    .dataframe tbody tr th:only-of-type {\n",
       "        vertical-align: middle;\n",
       "    }\n",
       "\n",
       "    .dataframe tbody tr th {\n",
       "        vertical-align: top;\n",
       "    }\n",
       "\n",
       "    .dataframe thead th {\n",
       "        text-align: right;\n",
       "    }\n",
       "</style>\n",
       "<table border=\"1\" class=\"dataframe\">\n",
       "  <thead>\n",
       "    <tr style=\"text-align: right;\">\n",
       "      <th></th>\n",
       "      <th>Unnamed: 0</th>\n",
       "      <th>reviews</th>\n",
       "      <th>stars</th>\n",
       "      <th>date</th>\n",
       "      <th>country</th>\n",
       "      <th>verified</th>\n",
       "    </tr>\n",
       "  </thead>\n",
       "  <tbody>\n",
       "    <tr>\n",
       "      <th>0</th>\n",
       "      <td>0</td>\n",
       "      <td>Not Verified |   Singapore to Heathrow. Busine...</td>\n",
       "      <td>5.0</td>\n",
       "      <td>16th July 2024</td>\n",
       "      <td>New Zealand</td>\n",
       "      <td>False</td>\n",
       "    </tr>\n",
       "    <tr>\n",
       "      <th>1</th>\n",
       "      <td>1</td>\n",
       "      <td>Not Verified |   I reported my damaged/ruined ...</td>\n",
       "      <td>1.0</td>\n",
       "      <td>15th July 2024</td>\n",
       "      <td>United Kingdom</td>\n",
       "      <td>False</td>\n",
       "    </tr>\n",
       "    <tr>\n",
       "      <th>2</th>\n",
       "      <td>2</td>\n",
       "      <td>Not Verified |   On March 1st, I flew from Ber...</td>\n",
       "      <td>1.0</td>\n",
       "      <td>9th July 2024</td>\n",
       "      <td>Germany</td>\n",
       "      <td>False</td>\n",
       "    </tr>\n",
       "    <tr>\n",
       "      <th>3</th>\n",
       "      <td>3</td>\n",
       "      <td>Not Verified | The WORST customer experience! ...</td>\n",
       "      <td>1.0</td>\n",
       "      <td>5th July 2024</td>\n",
       "      <td>United Kingdom</td>\n",
       "      <td>False</td>\n",
       "    </tr>\n",
       "    <tr>\n",
       "      <th>4</th>\n",
       "      <td>4</td>\n",
       "      <td>Not Verified |   Had to cancel my flight month...</td>\n",
       "      <td>1.0</td>\n",
       "      <td>1st July 2024</td>\n",
       "      <td>Canada</td>\n",
       "      <td>False</td>\n",
       "    </tr>\n",
       "    <tr>\n",
       "      <th>...</th>\n",
       "      <td>...</td>\n",
       "      <td>...</td>\n",
       "      <td>...</td>\n",
       "      <td>...</td>\n",
       "      <td>...</td>\n",
       "      <td>...</td>\n",
       "    </tr>\n",
       "    <tr>\n",
       "      <th>3530</th>\n",
       "      <td>3530</td>\n",
       "      <td>Took 6 BA flights as part of a OneWorld RTW tr...</td>\n",
       "      <td>1.0</td>\n",
       "      <td>12th October 2014</td>\n",
       "      <td>Australia</td>\n",
       "      <td>False</td>\n",
       "    </tr>\n",
       "    <tr>\n",
       "      <th>3531</th>\n",
       "      <td>3531</td>\n",
       "      <td>Flown 6 flights on BA recently generally satis...</td>\n",
       "      <td>9.0</td>\n",
       "      <td>12th October 2014</td>\n",
       "      <td>United Kingdom</td>\n",
       "      <td>False</td>\n",
       "    </tr>\n",
       "    <tr>\n",
       "      <th>3532</th>\n",
       "      <td>3532</td>\n",
       "      <td>Without being completely detrimental to BA I H...</td>\n",
       "      <td>7.0</td>\n",
       "      <td>12th October 2014</td>\n",
       "      <td>Mexico</td>\n",
       "      <td>False</td>\n",
       "    </tr>\n",
       "    <tr>\n",
       "      <th>3533</th>\n",
       "      <td>3533</td>\n",
       "      <td>Travelled to Cyprus from Gatwick in economy as...</td>\n",
       "      <td>1.0</td>\n",
       "      <td>12th October 2014</td>\n",
       "      <td>United Kingdom</td>\n",
       "      <td>False</td>\n",
       "    </tr>\n",
       "    <tr>\n",
       "      <th>3534</th>\n",
       "      <td>3534</td>\n",
       "      <td>NaN</td>\n",
       "      <td>2.0</td>\n",
       "      <td>NaN</td>\n",
       "      <td>NaN</td>\n",
       "      <td>NaN</td>\n",
       "    </tr>\n",
       "  </tbody>\n",
       "</table>\n",
       "<p>3535 rows × 6 columns</p>\n",
       "</div>"
      ],
      "text/plain": [
       "      Unnamed: 0                                            reviews  stars  \\\n",
       "0              0  Not Verified |   Singapore to Heathrow. Busine...    5.0   \n",
       "1              1  Not Verified |   I reported my damaged/ruined ...    1.0   \n",
       "2              2  Not Verified |   On March 1st, I flew from Ber...    1.0   \n",
       "3              3  Not Verified | The WORST customer experience! ...    1.0   \n",
       "4              4  Not Verified |   Had to cancel my flight month...    1.0   \n",
       "...          ...                                                ...    ...   \n",
       "3530        3530  Took 6 BA flights as part of a OneWorld RTW tr...    1.0   \n",
       "3531        3531  Flown 6 flights on BA recently generally satis...    9.0   \n",
       "3532        3532  Without being completely detrimental to BA I H...    7.0   \n",
       "3533        3533  Travelled to Cyprus from Gatwick in economy as...    1.0   \n",
       "3534        3534                                                NaN    2.0   \n",
       "\n",
       "                   date         country verified  \n",
       "0        16th July 2024     New Zealand    False  \n",
       "1        15th July 2024  United Kingdom    False  \n",
       "2         9th July 2024         Germany    False  \n",
       "3         5th July 2024  United Kingdom    False  \n",
       "4         1st July 2024          Canada    False  \n",
       "...                 ...             ...      ...  \n",
       "3530  12th October 2014       Australia    False  \n",
       "3531  12th October 2014  United Kingdom    False  \n",
       "3532  12th October 2014          Mexico    False  \n",
       "3533  12th October 2014  United Kingdom    False  \n",
       "3534                NaN             NaN      NaN  \n",
       "\n",
       "[3535 rows x 6 columns]"
      ]
     },
     "execution_count": 16,
     "metadata": {},
     "output_type": "execute_result"
    }
   ],
   "source": [
    "df"
   ]
  },
  {
   "cell_type": "code",
   "execution_count": 17,
   "id": "cf99ac96",
   "metadata": {},
   "outputs": [
    {
     "data": {
      "text/plain": [
       "array([ 5.,  1.,  6.,  3.,  9.,  2.,  8.,  7.,  4., 10., nan])"
      ]
     },
     "execution_count": 17,
     "metadata": {},
     "output_type": "execute_result"
    }
   ],
   "source": [
    "# cleaning stars\n",
    "# checking unique star values\n",
    "df.stars.unique()"
   ]
  },
  {
   "cell_type": "code",
   "execution_count": 18,
   "id": "01c47c35",
   "metadata": {},
   "outputs": [
    {
     "data": {
      "text/plain": [
       "stars\n",
       "1.0     864\n",
       "2.0     410\n",
       "3.0     405\n",
       "8.0     343\n",
       "10.0    287\n",
       "9.0     282\n",
       "7.0     276\n",
       "5.0     250\n",
       "4.0     240\n",
       "6.0     175\n",
       "Name: count, dtype: int64"
      ]
     },
     "execution_count": 18,
     "metadata": {},
     "output_type": "execute_result"
    }
   ],
   "source": [
    "df.stars.value_counts()"
   ]
  },
  {
   "cell_type": "code",
   "execution_count": 19,
   "id": "52295af6",
   "metadata": {},
   "outputs": [
    {
     "data": {
      "text/plain": [
       "Unnamed: 0     0\n",
       "reviews       35\n",
       "stars          3\n",
       "date          35\n",
       "country       37\n",
       "verified      35\n",
       "dtype: int64"
      ]
     },
     "execution_count": 19,
     "metadata": {},
     "output_type": "execute_result"
    }
   ],
   "source": [
    "df.isnull().sum()"
   ]
  },
  {
   "cell_type": "code",
   "execution_count": 20,
   "id": "874c4f31",
   "metadata": {},
   "outputs": [
    {
     "data": {
      "text/plain": [
       "Index(['Unnamed: 0', 'reviews', 'stars', 'date', 'country', 'verified'], dtype='object')"
      ]
     },
     "execution_count": 20,
     "metadata": {},
     "output_type": "execute_result"
    }
   ],
   "source": [
    "df.columns\n"
   ]
  },
  {
   "cell_type": "markdown",
   "id": "290bfcf2",
   "metadata": {},
   "source": [
    "# dropping insufficient data\n"
   ]
  },
  {
   "cell_type": "code",
   "execution_count": 21,
   "id": "075628ce",
   "metadata": {},
   "outputs": [],
   "source": [
    "df.drop(df[df.country.isnull() == True].index, axis=0, inplace=True)\n",
    "df.drop(df[df.stars.isnull() == True].index, axis=0, inplace=True)"
   ]
  },
  {
   "cell_type": "code",
   "execution_count": 22,
   "id": "822406a3",
   "metadata": {},
   "outputs": [],
   "source": [
    "df = df.drop('Unnamed: 0', axis=1) "
   ]
  },
  {
   "cell_type": "code",
   "execution_count": 23,
   "id": "39912e40",
   "metadata": {},
   "outputs": [
    {
     "data": {
      "text/plain": [
       "reviews     0\n",
       "stars       0\n",
       "date        0\n",
       "country     0\n",
       "verified    0\n",
       "dtype: int64"
      ]
     },
     "execution_count": 23,
     "metadata": {},
     "output_type": "execute_result"
    }
   ],
   "source": [
    "df.isnull().sum()"
   ]
  },
  {
   "cell_type": "code",
   "execution_count": 24,
   "id": "085d61a0",
   "metadata": {},
   "outputs": [
    {
     "data": {
      "text/html": [
       "<div>\n",
       "<style scoped>\n",
       "    .dataframe tbody tr th:only-of-type {\n",
       "        vertical-align: middle;\n",
       "    }\n",
       "\n",
       "    .dataframe tbody tr th {\n",
       "        vertical-align: top;\n",
       "    }\n",
       "\n",
       "    .dataframe thead th {\n",
       "        text-align: right;\n",
       "    }\n",
       "</style>\n",
       "<table border=\"1\" class=\"dataframe\">\n",
       "  <thead>\n",
       "    <tr style=\"text-align: right;\">\n",
       "      <th></th>\n",
       "      <th>reviews</th>\n",
       "      <th>stars</th>\n",
       "      <th>date</th>\n",
       "      <th>country</th>\n",
       "      <th>verified</th>\n",
       "    </tr>\n",
       "  </thead>\n",
       "  <tbody>\n",
       "    <tr>\n",
       "      <th>0</th>\n",
       "      <td>Not Verified |   Singapore to Heathrow. Busine...</td>\n",
       "      <td>5.0</td>\n",
       "      <td>16th July 2024</td>\n",
       "      <td>New Zealand</td>\n",
       "      <td>False</td>\n",
       "    </tr>\n",
       "    <tr>\n",
       "      <th>1</th>\n",
       "      <td>Not Verified |   I reported my damaged/ruined ...</td>\n",
       "      <td>1.0</td>\n",
       "      <td>15th July 2024</td>\n",
       "      <td>United Kingdom</td>\n",
       "      <td>False</td>\n",
       "    </tr>\n",
       "    <tr>\n",
       "      <th>2</th>\n",
       "      <td>Not Verified |   On March 1st, I flew from Ber...</td>\n",
       "      <td>1.0</td>\n",
       "      <td>9th July 2024</td>\n",
       "      <td>Germany</td>\n",
       "      <td>False</td>\n",
       "    </tr>\n",
       "    <tr>\n",
       "      <th>3</th>\n",
       "      <td>Not Verified | The WORST customer experience! ...</td>\n",
       "      <td>1.0</td>\n",
       "      <td>5th July 2024</td>\n",
       "      <td>United Kingdom</td>\n",
       "      <td>False</td>\n",
       "    </tr>\n",
       "    <tr>\n",
       "      <th>4</th>\n",
       "      <td>Not Verified |   Had to cancel my flight month...</td>\n",
       "      <td>1.0</td>\n",
       "      <td>1st July 2024</td>\n",
       "      <td>Canada</td>\n",
       "      <td>False</td>\n",
       "    </tr>\n",
       "  </tbody>\n",
       "</table>\n",
       "</div>"
      ],
      "text/plain": [
       "                                             reviews  stars            date  \\\n",
       "0  Not Verified |   Singapore to Heathrow. Busine...    5.0  16th July 2024   \n",
       "1  Not Verified |   I reported my damaged/ruined ...    1.0  15th July 2024   \n",
       "2  Not Verified |   On March 1st, I flew from Ber...    1.0   9th July 2024   \n",
       "3  Not Verified | The WORST customer experience! ...    1.0   5th July 2024   \n",
       "4  Not Verified |   Had to cancel my flight month...    1.0   1st July 2024   \n",
       "\n",
       "          country verified  \n",
       "0     New Zealand    False  \n",
       "1  United Kingdom    False  \n",
       "2         Germany    False  \n",
       "3  United Kingdom    False  \n",
       "4          Canada    False  "
      ]
     },
     "execution_count": 24,
     "metadata": {},
     "output_type": "execute_result"
    }
   ],
   "source": [
    "#cleaned dataset\n",
    "df.head()"
   ]
  },
  {
   "cell_type": "markdown",
   "id": "d0ca4faf",
   "metadata": {},
   "source": [
    "### The above given is a cleaned dataset of the company British Airways which contains the customer rating and feedback"
   ]
  },
  {
   "cell_type": "markdown",
   "id": "53bf8ea4",
   "metadata": {},
   "source": [
    "## EXPLORATORY DATA ANALYSIS"
   ]
  },
  {
   "cell_type": "markdown",
   "id": "b1d69876",
   "metadata": {},
   "source": [
    "## 1. Waht are the available ratings\n"
   ]
  },
  {
   "cell_type": "code",
   "execution_count": 25,
   "id": "781b374c",
   "metadata": {},
   "outputs": [
    {
     "data": {
      "text/plain": [
       "array([ 5.,  1.,  6.,  3.,  9.,  2.,  8.,  7.,  4., 10.])"
      ]
     },
     "execution_count": 25,
     "metadata": {},
     "output_type": "execute_result"
    }
   ],
   "source": [
    "df.stars.unique()"
   ]
  },
  {
   "cell_type": "markdown",
   "id": "b8c75dc6",
   "metadata": {},
   "source": [
    "## 2. . What is the average overall rating given for British Airways?"
   ]
  },
  {
   "cell_type": "code",
   "execution_count": 26,
   "id": "cb4aef6c",
   "metadata": {},
   "outputs": [
    {
     "data": {
      "text/plain": [
       "4.597711015736767"
      ]
     },
     "execution_count": 26,
     "metadata": {},
     "output_type": "execute_result"
    }
   ],
   "source": [
    "df.stars.mean()"
   ]
  },
  {
   "cell_type": "markdown",
   "id": "32154d89",
   "metadata": {},
   "source": [
    "## 3. What is the total counts for each ratings?"
   ]
  },
  {
   "cell_type": "code",
   "execution_count": 27,
   "id": "5d35136d",
   "metadata": {},
   "outputs": [
    {
     "data": {
      "text/plain": [
       "Text(0.5, 0.98, 'Counts for each ratings')"
      ]
     },
     "execution_count": 27,
     "metadata": {},
     "output_type": "execute_result"
    },
    {
     "data": {
      "image/png": "[encoded data removed]",
      "text/plain": [
       "<Figure size 640x480 with 1 Axes>"
      ]
     },
     "metadata": {},
     "output_type": "display_data"
    }
   ],
   "source": [
    "df.stars.value_counts().plot(kind=\"bar\")\n",
    "plt.xlabel(\"Ratings\")\n",
    "plt.ylabel(\"Total Number of reviews with that rating\")\n",
    "plt.suptitle(\"Counts for each ratings\")"
   ]
  },
  {
   "cell_type": "markdown",
   "id": "60926912",
   "metadata": {},
   "source": [
    "### The above graph suggests that majority people has rated '1'"
   ]
  },
  {
   "cell_type": "markdown",
   "id": "0af5ae8f",
   "metadata": {},
   "source": [
    "### 4. How many unique countries"
   ]
  },
  {
   "cell_type": "code",
   "execution_count": 28,
   "id": "f9b85fb5",
   "metadata": {},
   "outputs": [
    {
     "name": "stdout",
     "output_type": "stream",
     "text": [
      "70 unique countries\n"
     ]
    }
   ],
   "source": [
    "print(f\"{len(df.country.unique())} unique countries\")"
   ]
  },
  {
   "cell_type": "markdown",
   "id": "244551c7",
   "metadata": {},
   "source": [
    "### 5. which country has the most review"
   ]
  },
  {
   "cell_type": "code",
   "execution_count": 29,
   "id": "4ff6580f",
   "metadata": {},
   "outputs": [
    {
     "name": "stdout",
     "output_type": "stream",
     "text": [
      "Country with the Most Reviews: United Kingdom\n"
     ]
    }
   ],
   "source": [
    "most_reviewed_country = df['country'].value_counts().idxmax()\n",
    "print(\"Country with the Most Reviews:\", most_reviewed_country)"
   ]
  },
  {
   "cell_type": "markdown",
   "id": "e7f1db94",
   "metadata": {},
   "source": [
    "### Hence united kingdom has more number of reviews"
   ]
  },
  {
   "cell_type": "markdown",
   "id": "c911cd81",
   "metadata": {},
   "source": [
    "## 6. Average rating over time"
   ]
  },
  {
   "cell_type": "code",
   "execution_count": 30,
   "id": "ba07fd74",
   "metadata": {},
   "outputs": [
    {
     "data": {
      "image/png": "[encoded data removed]",
      "text/plain": [
       "<Figure size 640x480 with 1 Axes>"
      ]
     },
     "metadata": {},
     "output_type": "display_data"
    }
   ],
   "source": [
    "# 1. Average Rating Over Time\n",
    "avg_rating_by_date = df.groupby('date')['stars'].mean()\n",
    "plt.plot(avg_rating_by_date[:5])\n",
    "plt.xlabel('Date')\n",
    "plt.ylabel('Average Rating')\n",
    "plt.title('Average Rating Over Time')\n",
    "plt.show()"
   ]
  },
  {
   "cell_type": "markdown",
   "id": "2a9d3c1d",
   "metadata": {},
   "source": [
    "### The rating has significantly increased over the years"
   ]
  },
  {
   "cell_type": "markdown",
   "id": "22a29966",
   "metadata": {},
   "source": [
    "## 7. Top N Countries with the Most Reviews\n"
   ]
  },
  {
   "cell_type": "code",
   "execution_count": 31,
   "id": "f084aa38",
   "metadata": {},
   "outputs": [
    {
     "data": {
      "image/png": "[encoded data removed]",
      "text/plain": [
       "<Figure size 640x480 with 1 Axes>"
      ]
     },
     "metadata": {},
     "output_type": "display_data"
    }
   ],
   "source": [
    "top_countries = df['country'].value_counts().head(5)\n",
    "top_countries.plot(kind='bar')\n",
    "plt.xlabel('Country')\n",
    "plt.ylabel('Number of Reviews')\n",
    "plt.title('Top 5 Countries with the Most Reviews')\n",
    "plt.show()"
   ]
  },
  {
   "cell_type": "markdown",
   "id": "cd363711",
   "metadata": {},
   "source": [
    "### Therefore UNited Kingdom has the most reviews"
   ]
  },
  {
   "cell_type": "markdown",
   "id": "d0dcdb03",
   "metadata": {},
   "source": [
    "## 8 Average Rating by Country"
   ]
  },
  {
   "cell_type": "code",
   "execution_count": 32,
   "id": "203d07db",
   "metadata": {},
   "outputs": [
    {
     "data": {
      "image/png": "[encoded data removed]",
      "text/plain": [
       "<Figure size 640x480 with 1 Axes>"
      ]
     },
     "metadata": {},
     "output_type": "display_data"
    }
   ],
   "source": [
    "avg_rating_by_country = df.groupby('country')['stars'].mean()[:15]\n",
    "avg_rating_by_country.plot(kind='bar')\n",
    "plt.xlabel('Country')\n",
    "plt.ylabel('Average Rating')\n",
    "plt.title('Average Rating by Country')\n",
    "plt.show()\n"
   ]
  },
  {
   "cell_type": "markdown",
   "id": "425badff",
   "metadata": {},
   "source": [
    "### the country chile has the most average rating in the top 15 records"
   ]
  },
  {
   "cell_type": "markdown",
   "id": "662af2dc",
   "metadata": {},
   "source": [
    "## 9. Number of Reviews Over Time"
   ]
  },
  {
   "cell_type": "code",
   "execution_count": 33,
   "id": "06f76475",
   "metadata": {},
   "outputs": [
    {
     "data": {
      "image/png": "[encoded data removed]",
      "text/plain": [
       "<Figure size 640x480 with 1 Axes>"
      ]
     },
     "metadata": {},
     "output_type": "display_data"
    }
   ],
   "source": [
    "review_count_by_date = df.groupby('date').size()[:5]\n",
    "plt.plot(review_count_by_date)\n",
    "plt.xlabel('Date')\n",
    "plt.ylabel('Number of Reviews')\n",
    "plt.title('Number of Reviews Over Time')\n",
    "plt.show()"
   ]
  },
  {
   "cell_type": "markdown",
   "id": "b1a0000d",
   "metadata": {},
   "source": [
    "### The number of reviews has decreased over time"
   ]
  },
  {
   "cell_type": "markdown",
   "id": "3a023101",
   "metadata": {},
   "source": [
    "## 10. How many verified trips"
   ]
  },
  {
   "cell_type": "code",
   "execution_count": 34,
   "id": "7f02357a",
   "metadata": {},
   "outputs": [
    {
     "name": "stdout",
     "output_type": "stream",
     "text": [
      "Number of verified trips: verified\n",
      "False    2251\n",
      "True     1244\n",
      "Name: count, dtype: int64\n"
     ]
    }
   ],
   "source": [
    "num_verified_trips = df['verified'].value_counts()\n",
    "print(\"Number of verified trips:\", num_verified_trips)"
   ]
  },
  {
   "cell_type": "markdown",
   "id": "232ca2d1",
   "metadata": {},
   "source": [
    "## 11. Countries with most verified trips\n"
   ]
  },
  {
   "cell_type": "code",
   "execution_count": 35,
   "id": "eb9f2441",
   "metadata": {},
   "outputs": [
    {
     "name": "stdout",
     "output_type": "stream",
     "text": [
      "Country with most verified trips: country\n",
      "United Kingdom          705\n",
      "United States           184\n",
      "Australia                42\n",
      "Canada                   40\n",
      "Germany                  33\n",
      "South Africa             17\n",
      "Switzerland              13\n",
      "Netherlands              13\n",
      "France                   12\n",
      "India                    11\n",
      "Spain                    11\n",
      "United Arab Emirates     10\n",
      "Malaysia                 10\n",
      "Singapore                10\n",
      "Sweden                   10\n",
      "Name: count, dtype: int64\n"
     ]
    }
   ],
   "source": [
    "most_verified_country = df[df['verified'] == True]['country'].value_counts()[:15]\n",
    "print(\"Country with most verified trips:\", most_verified_country)"
   ]
  },
  {
   "cell_type": "code",
   "execution_count": 37,
   "id": "f69a814f",
   "metadata": {},
   "outputs": [
    {
     "data": {
      "image/png": "[encoded data removed]",
      "text/plain": [
       "<Figure size 640x480 with 1 Axes>"
      ]
     },
     "metadata": {},
     "output_type": "display_data"
    }
   ],
   "source": [
    "most_verified_country = df[df['verified'] == True]['country'].value_counts()[:5]\n",
    "plt.plot(most_verified_country)\n",
    "plt.xlabel('country')\n",
    "plt.ylabel('Number of Verified trips')\n",
    "plt.title('Countries with most verified trips')\n",
    "plt.show()"
   ]
  },
  {
   "cell_type": "markdown",
   "id": "5bd52d78",
   "metadata": {},
   "source": [
    "## Hence the most verified country is united kingdom"
   ]
  },
  {
   "cell_type": "markdown",
   "id": "b6304672",
   "metadata": {},
   "source": [
    "## 12. Countries with most unverified trips"
   ]
  },
  {
   "cell_type": "code",
   "execution_count": 38,
   "id": "b87ad7dd",
   "metadata": {},
   "outputs": [
    {
     "name": "stdout",
     "output_type": "stream",
     "text": [
      "Country with most unverified trips: United Kingdom\n"
     ]
    }
   ],
   "source": [
    "most_unverified_country = df[df['verified'] == False]['country'].value_counts().idxmax()\n",
    "print(\"Country with most unverified trips:\", most_unverified_country)"
   ]
  },
  {
   "cell_type": "code",
   "execution_count": 39,
   "id": "4e4812b8",
   "metadata": {},
   "outputs": [
    {
     "data": {
      "image/png": "[encoded data removed]",
      "text/plain": [
       "<Figure size 640x480 with 1 Axes>"
      ]
     },
     "metadata": {},
     "output_type": "display_data"
    }
   ],
   "source": [
    "most_unverified_country = df[df['verified'] == False]['country'].value_counts().idxmax()[:5]\n",
    "plt.plot(most_verified_country)\n",
    "plt.xlabel('country')\n",
    "plt.ylabel('Number of Verified trips')\n",
    "plt.title('Countries with most verified trips')\n",
    "plt.show()"
   ]
  },
  {
   "cell_type": "markdown",
   "id": "a3e5236f",
   "metadata": {},
   "source": [
    "### Hence the country with most unverified trips is also united kingdom"
   ]
  },
  {
   "cell_type": "markdown",
   "id": "07ec01f2",
   "metadata": {},
   "source": [
    "## 14. Top N Reviewers with the Most Reviews"
   ]
  },
  {
   "cell_type": "code",
   "execution_count": 152,
   "id": "a157189e",
   "metadata": {},
   "outputs": [
    {
     "name": "stdout",
     "output_type": "stream",
     "text": [
      "Top N Reviewers with the Most Reviews:\n",
      "country\n",
      "United Kingdom    2173\n",
      "United States      407\n",
      "Australia          143\n",
      "Canada             108\n",
      "Germany             64\n",
      "Name: count, dtype: int64\n"
     ]
    }
   ],
   "source": [
    "top_reviewers = df['country'].value_counts().head(5)\n",
    "print(\"Top N Reviewers with the Most Reviews:\")\n",
    "print(top_reviewers)"
   ]
  },
  {
   "cell_type": "markdown",
   "id": "d69f4de0",
   "metadata": {},
   "source": [
    "## 15 Group by verified trips"
   ]
  },
  {
   "cell_type": "code",
   "execution_count": 155,
   "id": "0bc862c9",
   "metadata": {},
   "outputs": [
    {
     "data": {
      "text/plain": [
       "Index(['reviews', 'stars', 'date', 'country', 'verified'], dtype='object')"
      ]
     },
     "execution_count": 155,
     "metadata": {},
     "output_type": "execute_result"
    }
   ],
   "source": [
    "df.columns"
   ]
  },
  {
   "cell_type": "code",
   "execution_count": 160,
   "id": "1828125c",
   "metadata": {},
   "outputs": [
    {
     "data": {
      "text/plain": [
       "0       ✅ Trip Verified |  I booked a long haul flight...\n",
       "1       ✅ Trip Verified |  A premium price for a sub-p...\n",
       "2       ✅ Trip Verified |  Really terrible user experi...\n",
       "3       ✅ Trip Verified | Very impressed with BA. Chec...\n",
       "4       ✅ Trip Verified |  LHR - SFO, LAS - LGW August...\n",
       "                              ...                        \n",
       "3088    JNB-LHR BA056 May 13 2015. LHR-JNB BA055 May 2...\n",
       "3153    15th Aug 2014 flight BA0272. Me and my 3 frien...\n",
       "3162    17 April 2015 Airbus A320 Business Heathrow to...\n",
       "3480    I fly the POS to LGW route on a fairly regular...\n",
       "3486    OSL-LHR in Business. BA has over the last few ...\n",
       "Name: reviews, Length: 253, dtype: object"
      ]
     },
     "execution_count": 160,
     "metadata": {},
     "output_type": "execute_result"
    }
   ],
   "source": [
    " df.groupby('country')['reviews'].head(5)\n"
   ]
  },
  {
   "cell_type": "markdown",
   "id": "46f5ca05",
   "metadata": {},
   "source": [
    "## 16. Percentage of Positive trips"
   ]
  },
  {
   "cell_type": "code",
   "execution_count": 164,
   "id": "381e8f69",
   "metadata": {},
   "outputs": [
    {
     "data": {
      "text/plain": [
       "reviews     34.710042\n",
       "stars       34.710042\n",
       "date        34.710042\n",
       "country     34.710042\n",
       "verified    34.710042\n",
       "dtype: float64"
      ]
     },
     "execution_count": 164,
     "metadata": {},
     "output_type": "execute_result"
    }
   ],
   "source": [
    "df[df.verified==True].count() * 100 /(len(reviews))"
   ]
  },
  {
   "cell_type": "markdown",
   "id": "0de9323b",
   "metadata": {},
   "source": [
    "## 17 . Percentage of negative trips\n"
   ]
  },
  {
   "cell_type": "code",
   "execution_count": 165,
   "id": "72769d35",
   "metadata": {},
   "outputs": [
    {
     "data": {
      "text/plain": [
       "reviews     64.158416\n",
       "stars       64.158416\n",
       "date        64.158416\n",
       "country     64.158416\n",
       "verified    64.158416\n",
       "dtype: float64"
      ]
     },
     "execution_count": 165,
     "metadata": {},
     "output_type": "execute_result"
    }
   ],
   "source": [
    "df[df.verified==False].count() * 100 /(len(reviews))"
   ]
  },
  {
   "cell_type": "markdown",
   "id": "0c6f9120",
   "metadata": {},
   "source": [
    "## 18. verified trips with time"
   ]
  },
  {
   "cell_type": "code",
   "execution_count": 166,
   "id": "b736bd66",
   "metadata": {},
   "outputs": [
    {
     "name": "stdout",
     "output_type": "stream",
     "text": [
      "Country with most verified trips: date\n",
      "8th December 2019     6\n",
      "11th May 2018         6\n",
      "30th November 2017    5\n",
      "18th November 2019    4\n",
      "4th September 2023    4\n",
      "2nd June 2018         4\n",
      "17th January 2018     4\n",
      "8th January 2018      4\n",
      "20th June 2018        4\n",
      "25th June 2018        4\n",
      "19th March 2018       4\n",
      "3rd April 2018        4\n",
      "5th February 2018     4\n",
      "9th October 2019      4\n",
      "1st December 2017     4\n",
      "Name: count, dtype: int64\n"
     ]
    }
   ],
   "source": [
    "most_verified = df[df['verified'] == True]['date'].value_counts()[:15]\n",
    "print(\"Country with most verified trips:\", most_verified)"
   ]
  },
  {
   "cell_type": "code",
   "execution_count": 41,
   "id": "e1ecab8a",
   "metadata": {},
   "outputs": [
    {
     "data": {
      "image/png": "[encoded data removed]",
      "text/plain": [
       "<Figure size 640x480 with 1 Axes>"
      ]
     },
     "metadata": {},
     "output_type": "display_data"
    }
   ],
   "source": [
    "most_verified = df[df['verified'] == True]['date'].value_counts()[:4]\n",
    "plt.plot(most_verified)\n",
    "plt.xlabel('date')\n",
    "plt.ylabel('Number of Verified trips')\n",
    "plt.title('verified trips with time')\n",
    "plt.show()"
   ]
  },
  {
   "cell_type": "markdown",
   "id": "868dfd17",
   "metadata": {},
   "source": [
    "## Hence the number of verified trips with time has decreased"
   ]
  },
  {
   "cell_type": "markdown",
   "id": "301aa96e",
   "metadata": {},
   "source": [
    "## 19. unverified trips with time"
   ]
  },
  {
   "cell_type": "code",
   "execution_count": 42,
   "id": "b19c91b3",
   "metadata": {},
   "outputs": [
    {
     "name": "stdout",
     "output_type": "stream",
     "text": [
      "Country with most unverified trips: date\n",
      "19th January 2015     26\n",
      "20th November 2014    17\n",
      "28th October 2014     14\n",
      "31st May 2015         12\n",
      "Name: count, dtype: int64\n"
     ]
    }
   ],
   "source": [
    "most_unverified = df[df['verified'] == False]['date'].value_counts()[:4]\n",
    "print(\"Country with most unverified trips:\", most_unverified)"
   ]
  },
  {
   "cell_type": "code",
   "execution_count": 43,
   "id": "170cfb36",
   "metadata": {},
   "outputs": [
    {
     "data": {
      "image/png": "[encoded data removed]",
      "text/plain": [
       "<Figure size 640x480 with 1 Axes>"
      ]
     },
     "metadata": {},
     "output_type": "display_data"
    }
   ],
   "source": [
    "plt.plot(most_unverified)\n",
    "plt.xlabel('date')\n",
    "plt.ylabel('Number of unerified trips')\n",
    "plt.title('unverified trips with time')\n",
    "plt.show()"
   ]
  },
  {
   "cell_type": "markdown",
   "id": "e21eed8c",
   "metadata": {},
   "source": [
    "### Therefore the unverified trips has also decreased with time"
   ]
  },
  {
   "cell_type": "markdown",
   "id": "e63e4b17",
   "metadata": {},
   "source": [
    "## 20. Conclusion:\n",
    "\n",
    "### -> As per the trends noticed, it can be observed that\n",
    "### 1. United Kingdom has the highest number of customers in British Airways\n",
    "### 2. Over time the negative reviews has been decreasing\n",
    "### 3. Over time there is a significant raise in ratings as well."
   ]
  }
 ],
 "metadata": {
  "kernelspec": {
   "display_name": "Python 3 (ipykernel)",
   "language": "python",
   "name": "python3"
  },
  "language_info": {
   "codemirror_mode": {
    "name": "ipython",
    "version": 3
   },
   "file_extension": ".py",
   "mimetype": "text/x-python",
   "name": "python",
   "nbconvert_exporter": "python",
   "pygments_lexer": "ipython3",
   "version": "3.11.0"
  }
 },
 "nbformat": 4,
 "nbformat_minor": 5
}
